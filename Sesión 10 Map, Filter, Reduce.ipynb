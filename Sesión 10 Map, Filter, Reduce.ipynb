{
 "cells": [
  {
   "cell_type": "markdown",
   "metadata": {},
   "source": [
    "# Antes de empezar:\n",
    "- Lee el archivo README.md\n",
    "- Comenta todo lo que puedas y utiliza los recursos en el archivo README.md\n",
    "- ¡Feliz aprendizaje!"
   ]
  },
  {
   "cell_type": "code",
   "execution_count": 8,
   "metadata": {},
   "outputs": [],
   "source": [
    "# Import reduce from functools, numpy and pandas\n",
    "from functools import reduce\n",
    "# import numpy\n",
    "# import pandas"
   ]
  },
  {
   "cell_type": "markdown",
   "metadata": {},
   "source": [
    "# Desafío 1 - Mapping\n",
    "\n",
    "#### Usaremos la función map para limpiar palabras en un libro.\n",
    "\n",
    "En la siguiente celda, leeremos un archivo de texto que contiene el libro El Profeta de Khalil Gibran."
   ]
  },
  {
   "cell_type": "code",
   "execution_count": 1,
   "metadata": {},
   "outputs": [],
   "source": [
    "# Corre este codigo:\n",
    "\n",
    "location = 'C:/Users/Khaled/Desktop/IRON HACK/Tasks/58585-0.txt'\n",
    "with open(location, 'r', encoding=\"utf8\") as f:\n",
    "    prophet = f.read().split(' ')"
   ]
  },
  {
   "cell_type": "code",
   "execution_count": 2,
   "metadata": {},
   "outputs": [
    {
     "data": {
      "text/plain": [
       "13637"
      ]
     },
     "execution_count": 2,
     "metadata": {},
     "output_type": "execute_result"
    }
   ],
   "source": [
    "len(prophet)"
   ]
  },
  {
   "cell_type": "markdown",
   "metadata": {},
   "source": [
    "#### Vamos a eliminar las primeras 568 palabras ya que contienen información sobre el libro pero no son parte del libro en sí.\n",
    "\n",
    "Haz esto eliminando de `prophet` los elementos del 0 al 567 de la lista (también puedes hacer esto manteniendo los elementos del 568 al último elemento)."
   ]
  },
  {
   "cell_type": "code",
   "execution_count": 3,
   "metadata": {},
   "outputs": [],
   "source": [
    "# tu codigo aquí\n",
    "prophet = prophet[567:]\n"
   ]
  },
  {
   "cell_type": "markdown",
   "metadata": {},
   "source": [
    "Si revisas las palabras, encontrarás que muchas palabras tienen una referencia adjunta a ellas. Por ejemplo, veamos las palabras del 1 al 10."
   ]
  },
  {
   "cell_type": "code",
   "execution_count": 4,
   "metadata": {},
   "outputs": [
    {
     "name": "stdout",
     "output_type": "stream",
     "text": [
      "['PROPHET\\n\\n|Almustafa,', 'the{7}', 'chosen', 'and', 'the\\nbeloved,', 'who', 'was', 'a', 'dawn']\n"
     ]
    }
   ],
   "source": [
    "# tu codigo aquí\n",
    "print(prophet[1:10])"
   ]
  },
  {
   "cell_type": "markdown",
   "metadata": {},
   "source": [
    "#### El siguiente paso es crear una función que eliminará las referencias.\n",
    "\n",
    "Haremos esto dividiendo la cadena en el carácter `{` y manteniendo solo la parte antes de este carácter. Escribe tu función a continuación."
   ]
  },
  {
   "cell_type": "code",
   "execution_count": 7,
   "metadata": {},
   "outputs": [],
   "source": [
    "result=[]\n",
    "\n",
    "def referencia(x):\n",
    "    # '''\n",
    "    # Entrada: Una cadena\n",
    "    # Salida: La cadena con las referencias eliminadas\n",
    "    \n",
    "    # Ejemplo:\n",
    "    # Entrada: 'the{7}'\n",
    "    # Salida: 'the'\n",
    "    # '''\n",
    "       # tu código aquí\n",
    "    \n",
    "    for i in x:\n",
    "        \n",
    "        nueva_palabra = i.split(\"{\")[0]\n",
    "        result.append(nueva_palabra)\n",
    "        return result\n",
    "\n",
    "result = referencia(prophet)\n"
   ]
  },
  {
   "cell_type": "markdown",
   "metadata": {},
   "source": [
    "Ahora que tenemos nuestra función, usa la función `map()` para aplicar esta función a nuestro libro, El Profeta. Devuelve la lista resultante a una nueva lista llamada `prophet_reference`."
   ]
  },
  {
   "cell_type": "code",
   "execution_count": 8,
   "metadata": {},
   "outputs": [],
   "source": [
    "# tu codigo aquí\n",
    "prophet_reference = map(referencia, prophet)\n"
   ]
  },
  {
   "cell_type": "markdown",
   "metadata": {},
   "source": [
    "Otra cosa que podrías haber notado es que algunas palabras contienen un salto de línea. Escribamos una función para dividir esas palabras. Nuestra función devolverá la cadena dividida en el carácter `\\n`. Escribe tu función en la celda de abajo."
   ]
  },
  {
   "cell_type": "code",
   "execution_count": 18,
   "metadata": {},
   "outputs": [
    {
     "ename": "AttributeError",
     "evalue": "'list' object has no attribute 'split'",
     "output_type": "error",
     "traceback": [
      "\u001b[1;31m---------------------------------------------------------------------------\u001b[0m",
      "\u001b[1;31mAttributeError\u001b[0m                            Traceback (most recent call last)",
      "Cell \u001b[1;32mIn[18], line 13\u001b[0m\n\u001b[0;32m      2\u001b[0m \u001b[38;5;250m    \u001b[39m\u001b[38;5;124;03m'''\u001b[39;00m\n\u001b[0;32m      3\u001b[0m \u001b[38;5;124;03m    Entrada: Una cadena\u001b[39;00m\n\u001b[0;32m      4\u001b[0m \u001b[38;5;124;03m    Salida: Una lista de cadenas divididas en el carácter de salto de línea (\\n)\u001b[39;00m\n\u001b[1;32m   (...)\u001b[0m\n\u001b[0;32m      8\u001b[0m \u001b[38;5;124;03m    Salida: ['the', 'beloved']\u001b[39;00m\n\u001b[0;32m      9\u001b[0m \u001b[38;5;124;03m    '''\u001b[39;00m\n\u001b[0;32m     11\u001b[0m     \u001b[38;5;28;01mreturn\u001b[39;00m x\u001b[38;5;241m.\u001b[39msplit(\u001b[38;5;124m\"\u001b[39m\u001b[38;5;130;01m\\n\u001b[39;00m\u001b[38;5;124m\"\u001b[39m)\n\u001b[1;32m---> 13\u001b[0m result \u001b[38;5;241m=\u001b[39m salto_de_linea(prophet)\n",
      "Cell \u001b[1;32mIn[18], line 11\u001b[0m, in \u001b[0;36msalto_de_linea\u001b[1;34m(x)\u001b[0m\n\u001b[0;32m      1\u001b[0m \u001b[38;5;28;01mdef\u001b[39;00m \u001b[38;5;21msalto_de_linea\u001b[39m(x):\n\u001b[0;32m      2\u001b[0m \u001b[38;5;250m    \u001b[39m\u001b[38;5;124;03m'''\u001b[39;00m\n\u001b[0;32m      3\u001b[0m \u001b[38;5;124;03m    Entrada: Una cadena\u001b[39;00m\n\u001b[0;32m      4\u001b[0m \u001b[38;5;124;03m    Salida: Una lista de cadenas divididas en el carácter de salto de línea (\\n)\u001b[39;00m\n\u001b[1;32m   (...)\u001b[0m\n\u001b[0;32m      8\u001b[0m \u001b[38;5;124;03m    Salida: ['the', 'beloved']\u001b[39;00m\n\u001b[0;32m      9\u001b[0m \u001b[38;5;124;03m    '''\u001b[39;00m\n\u001b[1;32m---> 11\u001b[0m     \u001b[38;5;28;01mreturn\u001b[39;00m x\u001b[38;5;241m.\u001b[39msplit(\u001b[38;5;124m\"\u001b[39m\u001b[38;5;130;01m\\n\u001b[39;00m\u001b[38;5;124m\"\u001b[39m)\n",
      "\u001b[1;31mAttributeError\u001b[0m: 'list' object has no attribute 'split'"
     ]
    }
   ],
   "source": [
    "def salto_de_linea(x):\n",
    "    '''\n",
    "    Entrada: Una cadena\n",
    "    Salida: Una lista de cadenas divididas en el carácter de salto de línea (\\n)\n",
    "        \n",
    "    Ejemplo:\n",
    "    Entrada: 'the\\nbeloved'\n",
    "    Salida: ['the', 'beloved']\n",
    "    '''\n",
    "\n",
    "    return x.split(\"\\n\")\n",
    "\n",
    "result = salto_de_linea(prophet)\n",
    "    \n",
    "    # tu código aquí"
   ]
  },
  {
   "cell_type": "markdown",
   "metadata": {},
   "source": [
    "Aplica la función `salto_de_linea` a la lista `prophet_reference`. Nombra la nueva lista `prophet_line`."
   ]
  },
  {
   "cell_type": "code",
   "execution_count": 17,
   "metadata": {
    "scrolled": true
   },
   "outputs": [
    {
     "ename": "TypeError",
     "evalue": "'NoneType' object is not iterable",
     "output_type": "error",
     "traceback": [
      "\u001b[1;31m---------------------------------------------------------------------------\u001b[0m",
      "\u001b[1;31mTypeError\u001b[0m                                 Traceback (most recent call last)",
      "Cell \u001b[1;32mIn[17], line 3\u001b[0m\n\u001b[0;32m      1\u001b[0m \u001b[38;5;66;03m# tu codigo aquí\u001b[39;00m\n\u001b[0;32m      2\u001b[0m prophet_line \u001b[38;5;241m=\u001b[39m \u001b[38;5;28mmap\u001b[39m(salto_de_linea, prophet_reference)\n\u001b[1;32m----> 3\u001b[0m prophet_line_list \u001b[38;5;241m=\u001b[39m \u001b[38;5;28mlist\u001b[39m(prophet_line)\n\u001b[0;32m      4\u001b[0m \u001b[38;5;28mprint\u001b[39m(prophet_line[\u001b[38;5;241m0\u001b[39m:\u001b[38;5;241m10\u001b[39m])\n",
      "Cell \u001b[1;32mIn[9], line 11\u001b[0m, in \u001b[0;36msalto_de_linea\u001b[1;34m(x)\u001b[0m\n\u001b[0;32m      1\u001b[0m \u001b[38;5;28;01mdef\u001b[39;00m \u001b[38;5;21msalto_de_linea\u001b[39m(x):\n\u001b[0;32m      2\u001b[0m \u001b[38;5;250m    \u001b[39m\u001b[38;5;124;03m'''\u001b[39;00m\n\u001b[0;32m      3\u001b[0m \u001b[38;5;124;03m    Entrada: Una cadena\u001b[39;00m\n\u001b[0;32m      4\u001b[0m \u001b[38;5;124;03m    Salida: Una lista de cadenas divididas en el carácter de salto de línea (\\n)\u001b[39;00m\n\u001b[1;32m   (...)\u001b[0m\n\u001b[0;32m      8\u001b[0m \u001b[38;5;124;03m    Salida: ['the', 'beloved']\u001b[39;00m\n\u001b[0;32m      9\u001b[0m \u001b[38;5;124;03m    '''\u001b[39;00m\n\u001b[1;32m---> 11\u001b[0m     \u001b[38;5;28;01mfor\u001b[39;00m i \u001b[38;5;129;01min\u001b[39;00m x:\n\u001b[0;32m     13\u001b[0m         nueva_palabra \u001b[38;5;241m=\u001b[39m i\u001b[38;5;241m.\u001b[39msplit(\u001b[38;5;124m\"\u001b[39m\u001b[38;5;130;01m\\n\u001b[39;00m\u001b[38;5;124m\"\u001b[39m)\n\u001b[0;32m     14\u001b[0m         \u001b[38;5;28;01mfor\u001b[39;00m j \u001b[38;5;129;01min\u001b[39;00m nueva_palabra:\n",
      "\u001b[1;31mTypeError\u001b[0m: 'NoneType' object is not iterable"
     ]
    }
   ],
   "source": [
    "# tu codigo aquí\n",
    "prophet_line = map(salto_de_linea, prophet_reference)\n",
    "prophet_line_list = list(prophet_line)\n",
    "print(prophet_line[0:10])\n",
    "\n",
    "\n",
    "numbers = [1, 2, 3, 4, 5]\n",
    "squared_numbers = map(lambda x: x**2, numbers)\n",
    "squared_numbers_list = list(squared_numbers)\n",
    "\n",
    "print(squared_numbers_list[0]) "
   ]
  },
  {
   "cell_type": "markdown",
   "metadata": {},
   "source": [
    "Si miras los elementos de `prophet_line`, verás que la función devolvió listas y no cadenas. Nuestra lista ahora es una lista de listas. Aplana la lista usando comprensión de listas. Asigna esta nueva lista a `prophet_flat`."
   ]
  },
  {
   "cell_type": "code",
   "execution_count": null,
   "metadata": {},
   "outputs": [],
   "source": [
    "prophet_flat = [i for sub in prophet_line for i in sub]\n",
    "prophet_flat"
   ]
  },
  {
   "cell_type": "code",
   "execution_count": null,
   "metadata": {},
   "outputs": [],
   "source": [
    "# tu codigo aquí"
   ]
  },
  {
   "cell_type": "markdown",
   "metadata": {},
   "source": [
    "# Desafío 2 - Filtering\n",
    "\n",
    "Al imprimir algunas palabras del libro, vemos que hay palabras que tal vez no queramos conservar si elegimos analizar el corpus de texto. A continuación, se muestra una lista de palabras que nos gustaría eliminar. Crea una función que devuelva falso si contiene una palabra de la lista de palabras especificadas y verdadero de lo contrario."
   ]
  },
  {
   "cell_type": "code",
   "execution_count": null,
   "metadata": {},
   "outputs": [],
   "source": [
    "def filtro_palabra(x):\n",
    "    '''\n",
    "    Entrada: Una cadena\n",
    "    Salida: Verdadero si la palabra no está en la lista especificada \n",
    "    y Falso si la palabra está en la lista.\n",
    "        \n",
    "    Ejemplo:\n",
    "    lista de palabras = ['and', 'the']\n",
    "    Entrada: 'and'\n",
    "    Salida: FALSE\n",
    "    \n",
    "    Entrada: 'John'\n",
    "    Salida: TRUE\n",
    "    '''\n",
    "    \n",
    "    lista_palabras = ['and', 'the', 'a', 'an']\n",
    "    \n",
    "    # tu código aquí"
   ]
  },
  {
   "cell_type": "markdown",
   "metadata": {},
   "source": [
    "Usa la función `filter()` para filtrar las palabras especificadas en la función `filtro_palabra()`. Guarda la lista filtrada en la variable `prophet_filter`.\n"
   ]
  },
  {
   "cell_type": "code",
   "execution_count": null,
   "metadata": {
    "scrolled": true
   },
   "outputs": [],
   "source": [
    "# tu codigo aquí"
   ]
  },
  {
   "cell_type": "markdown",
   "metadata": {},
   "source": [
    "# Desafío extra\n",
    "\n",
    "Reescribe la función `filtro_palabra` de arriba para que no sea sensible a mayúsculas y minúsculas."
   ]
  },
  {
   "cell_type": "code",
   "execution_count": null,
   "metadata": {},
   "outputs": [],
   "source": [
    "def word_filter_case(x):\n",
    "   \n",
    "    word_list = ['and', 'the', 'a', 'an']\n",
    "    \n",
    "    # your code here\n",
    "    counting = sum([x.lower().count(i) for i in word_list])\n",
    "    return False if counting > 0 else True"
   ]
  },
  {
   "cell_type": "markdown",
   "metadata": {},
   "source": [
    "# Desafío 3 - Reducing\n",
    "\n",
    "#### Ahora que hemos limpiado significativamente nuestro corpus de texto, usemos la función `reduce()` para volver a unir las palabras en una cadena larga separada por espacios.\n",
    "\n",
    "Comenzaremos escribiendo una función que toma dos cadenas y las concatena juntas con un espacio entre las dos cadenas.\n"
   ]
  },
  {
   "cell_type": "code",
   "execution_count": null,
   "metadata": {},
   "outputs": [],
   "source": [
    "def concatenar_espacio(a, b):\n",
    "    '''\n",
    "    Entrada: Dos cadenas\n",
    "    Salida: Una única cadena separada por un espacio\n",
    "        \n",
    "    Ejemplo:\n",
    "    Entrada: 'John', 'Smith'\n",
    "    Salida: 'John Smith'\n",
    "    '''\n",
    "    \n",
    "    # tu código aquí"
   ]
  },
  {
   "cell_type": "code",
   "execution_count": null,
   "metadata": {
    "scrolled": true
   },
   "outputs": [],
   "source": [
    "# tu código aquí"
   ]
  },
  {
   "cell_type": "markdown",
   "metadata": {},
   "source": [
    "Usa la función de arriba para reducir el corpus de texto en la lista `prophet_filter` a una única cadena. Asigna esta nueva cadena a la variable `prophet_string`."
   ]
  },
  {
   "cell_type": "code",
   "execution_count": null,
   "metadata": {},
   "outputs": [],
   "source": [
    "# tu código aquí"
   ]
  }
 ],
 "metadata": {
  "kernelspec": {
   "display_name": "Python 3 (ipykernel)",
   "language": "python",
   "name": "python3"
  },
  "language_info": {
   "codemirror_mode": {
    "name": "ipython",
    "version": 3
   },
   "file_extension": ".py",
   "mimetype": "text/x-python",
   "name": "python",
   "nbconvert_exporter": "python",
   "pygments_lexer": "ipython3",
   "version": "3.11.9"
  }
 },
 "nbformat": 4,
 "nbformat_minor": 2
}
